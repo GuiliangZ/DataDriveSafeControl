{
 "cells": [
  {
   "cell_type": "code",
   "execution_count": 15,
   "metadata": {},
   "outputs": [
    {
     "data": {
      "text/plain": [
       "(4, 1)"
      ]
     },
     "execution_count": 15,
     "metadata": {},
     "output_type": "execute_result"
    }
   ],
   "source": [
    "import numpy as np\n",
    "\n",
    "t_initial = 0\n",
    "t_end = 10  # Time span (s)\n",
    "dt = 0.1  # Time step\n",
    "\n",
    "\n",
    "Kp = np.array([[2, 0], [0, 1]])\n",
    "Kd = np.array([[2, 0], [0, 1]])\n",
    "state = np.array([[2],[3],[4],[0]])\n",
    "goal_position = np.array([[5],[5]])\n",
    "t_range = np.arange(0, t_end + dt, dt)\n",
    "n_states = int((t_end - t_initial)/dt)\n",
    "state_list = np.zeros((4, n_states))\n",
    "state_list.shape\n",
    "state.shape\n"
   ]
  },
  {
   "cell_type": "code",
   "execution_count": 16,
   "metadata": {},
   "outputs": [
    {
     "data": {
      "text/plain": [
       "array([[2],\n",
       "       [3],\n",
       "       [4],\n",
       "       [0]])"
      ]
     },
     "execution_count": 16,
     "metadata": {},
     "output_type": "execute_result"
    }
   ],
   "source": [
    "state"
   ]
  },
  {
   "cell_type": "code",
   "execution_count": 18,
   "metadata": {},
   "outputs": [
    {
     "ename": "ValueError",
     "evalue": "could not broadcast input array from shape (4,1) into shape (4,)",
     "output_type": "error",
     "traceback": [
      "\u001b[0;31m---------------------------------------------------------------------------\u001b[0m",
      "\u001b[0;31mValueError\u001b[0m                                Traceback (most recent call last)",
      "\u001b[1;32m/Users/zheng/Desktop/researchCTRL-Leung/Code/DataDriveSafeControl/DDSafe/test.ipynb Cell 3\u001b[0m line \u001b[0;36m1\n\u001b[0;32m----> <a href='vscode-notebook-cell:/Users/zheng/Desktop/researchCTRL-Leung/Code/DataDriveSafeControl/DDSafe/test.ipynb#W1sZmlsZQ%3D%3D?line=0'>1</a>\u001b[0m state_list[:,\u001b[39m0\u001b[39;49m] \u001b[39m=\u001b[39m state\n",
      "\u001b[0;31mValueError\u001b[0m: could not broadcast input array from shape (4,1) into shape (4,)"
     ]
    }
   ],
   "source": [
    "state_list[:,0] = state"
   ]
  },
  {
   "cell_type": "code",
   "execution_count": 14,
   "metadata": {},
   "outputs": [
    {
     "data": {
      "text/plain": [
       "array([0., 0., 0., 0.])"
      ]
     },
     "execution_count": 14,
     "metadata": {},
     "output_type": "execute_result"
    }
   ],
   "source": [
    "state_list[:,0]"
   ]
  },
  {
   "cell_type": "code",
   "execution_count": 39,
   "metadata": {},
   "outputs": [
    {
     "name": "stdout",
     "output_type": "stream",
     "text": [
      "[[0]\n",
      " [0]\n",
      " [0]\n",
      " [0]]\n"
     ]
    }
   ],
   "source": [
    "state = np.array([[0],[0],[0],[0]])\n",
    "print(state)"
   ]
  },
  {
   "cell_type": "code",
   "execution_count": 41,
   "metadata": {},
   "outputs": [
    {
     "data": {
      "text/plain": [
       "0"
      ]
     },
     "execution_count": 41,
     "metadata": {},
     "output_type": "execute_result"
    }
   ],
   "source": [
    "state[2,0]"
   ]
  },
  {
   "cell_type": "code",
   "execution_count": 43,
   "metadata": {},
   "outputs": [
    {
     "name": "stdout",
     "output_type": "stream",
     "text": [
      "[[0]\n",
      " [0]\n",
      " [0]\n",
      " [0]]\n"
     ]
    },
    {
     "data": {
      "text/plain": [
       "0"
      ]
     },
     "execution_count": 43,
     "metadata": {},
     "output_type": "execute_result"
    }
   ],
   "source": [
    "state_new = np.zeros_like(state)\n",
    "print(state_new)\n",
    "state_new[0,0]"
   ]
  },
  {
   "cell_type": "code",
   "execution_count": 28,
   "metadata": {},
   "outputs": [],
   "source": [
    "state[3]\n",
    "u = [[0],[0]]\n",
    "state_new = np.zeros_like(state)\n"
   ]
  },
  {
   "cell_type": "code",
   "execution_count": 38,
   "metadata": {},
   "outputs": [
    {
     "ename": "TypeError",
     "evalue": "list indices must be integers or slices, not tuple",
     "output_type": "error",
     "traceback": [
      "\u001b[0;31m---------------------------------------------------------------------------\u001b[0m",
      "\u001b[0;31mTypeError\u001b[0m                                 Traceback (most recent call last)",
      "\u001b[1;32m/Users/zheng/Desktop/researchCTRL-Leung/Code/DataDriveSafeControl/DDSafe/test.ipynb Cell 8\u001b[0m line \u001b[0;36m1\n\u001b[0;32m----> <a href='vscode-notebook-cell:/Users/zheng/Desktop/researchCTRL-Leung/Code/DataDriveSafeControl/DDSafe/test.ipynb#W6sZmlsZQ%3D%3D?line=0'>1</a>\u001b[0m x \u001b[39m=\u001b[39m state[\u001b[39m0\u001b[39m,\u001b[39m0\u001b[39m]\u001b[39m+\u001b[39mstate[\u001b[39m2\u001b[39m,\u001b[39m0\u001b[39m]\u001b[39m*\u001b[39mdt\u001b[39m+\u001b[39m\u001b[39m0.5\u001b[39m\u001b[39m*\u001b[39mu[\u001b[39m0\u001b[39;49m,\u001b[39m0\u001b[39;49m]\u001b[39m*\u001b[39mdt\u001b[39m*\u001b[39m\u001b[39m*\u001b[39m\u001b[39m2\u001b[39m\n",
      "\u001b[0;31mTypeError\u001b[0m: list indices must be integers or slices, not tuple"
     ]
    }
   ],
   "source": [
    "state_new[0,0] = state[0,0]+state[2,0]*dt+0.5*u[0,0]*dt**2"
   ]
  },
  {
   "cell_type": "code",
   "execution_count": null,
   "metadata": {},
   "outputs": [],
   "source": []
  }
 ],
 "metadata": {
  "kernelspec": {
   "display_name": "tensor",
   "language": "python",
   "name": "python3"
  },
  "language_info": {
   "codemirror_mode": {
    "name": "ipython",
    "version": 3
   },
   "file_extension": ".py",
   "mimetype": "text/x-python",
   "name": "python",
   "nbconvert_exporter": "python",
   "pygments_lexer": "ipython3",
   "version": "3.8.15"
  }
 },
 "nbformat": 4,
 "nbformat_minor": 2
}
